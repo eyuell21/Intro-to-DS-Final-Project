{
 "cells": [
  {
   "cell_type": "markdown",
   "metadata": {},
   "source": [
    "# Session 7 Labs \n",
    "\n",
    "Section 1: Conditionals, loops, and functions \\\n",
    "Section 2: .csv files \\\n",
    "Section 3: Web scraping\n",
    "\n",
    "\n"
   ]
  },
  {
   "cell_type": "markdown",
   "metadata": {},
   "source": [
    "## Section 1: Conditionals, loops, and functions\n",
    "\n",
    "If you feel that you are already comfortable with these concepts, feel free to skip this section and move on to section 2\n",
    "\n",
    "<ins>Resources</ins>:\\\n",
    "Conditional statements: https://www.w3schools.com/python/python_conditions.asp \\\n",
    "While loops: https://www.w3schools.com/python/python_while_loops.asp \\\n",
    "For loops: https://www.w3schools.com/python/python_for_loops.asp \\\n",
    "Functions: https://www.w3schools.com/python/python_functions.asp "
   ]
  },
  {
   "cell_type": "markdown",
   "metadata": {},
   "source": [
    "### Task 1\n",
    "\n",
    "Write a program that determines whether a value is:\n",
    "1.  A multiple of 7\n",
    "2.  A multiple of 5\n",
    "3.  A multiple of both 7 and 5\n",
    "4.  None of the above\n",
    "\n",
    "Print out an appropriate response for each option.\n"
   ]
  },
  {
   "cell_type": "code",
   "execution_count": null,
   "metadata": {},
   "outputs": [],
   "source": [
    "#Complete task 1 in this box\n",
    "def multi_checker(num):\n",
    "    if num % 5 == 0 and num % 7 == 0:\n",
    "        print(f\"{num} is divisible by both 5 and 7\")\n",
    "    elif num % 5 == 0:\n",
    "        print(f\"{num} is divisible by 5\")\n",
    "    elif num % 7 == 0:\n",
    "        print(f\"{num} is divisible by 7\")\n",
    "    else:\n",
    "        print(f\"{num} is not divisible by either 5 or 7\")\n",
    "\n",
    "multi_checker(2)"
   ]
  },
  {
   "cell_type": "markdown",
   "metadata": {},
   "source": [
    "### Task 2\n",
    "\n",
    "Using at least one loop, write a program that will print the following pattern:\n",
    "\n",
    "\n",
    "£ \\\n",
    "££ \\\n",
    "£££ \\\n",
    "££££ \\\n",
    "£££££ \\\n",
    "££££ \\\n",
    "£££ \\\n",
    "££ \\\n",
    "£ \n",
    "\n"
   ]
  },
  {
   "cell_type": "code",
   "execution_count": 1,
   "metadata": {},
   "outputs": [
    {
     "name": "stdout",
     "output_type": "stream",
     "text": [
      "£\n",
      "££\n",
      "£££\n",
      "££££\n",
      "£££££\n",
      "££££\n",
      "£££\n",
      "££\n",
      "£\n"
     ]
    }
   ],
   "source": [
    "#Complete task 2 in this box\n",
    "def pyramid():\n",
    "    for i in range(1, 6):\n",
    "        print(\"£\"*i)\n",
    "    for j in range(4,0,-1):\n",
    "        print(\"£\" * j)\n",
    "pyramid()\n"
   ]
  },
  {
   "cell_type": "markdown",
   "metadata": {},
   "source": [
    "### Task 3\n",
    "\n",
    "Write a program that determines the largest numerical value in a list. You may use the example lists given or create your own.\n",
    "\n",
    "**Extension** : Turn this into a function that takes the list as an argument and returns the largest value."
   ]
  },
  {
   "cell_type": "code",
   "execution_count": 6,
   "metadata": {},
   "outputs": [
    {
     "name": "stdout",
     "output_type": "stream",
     "text": [
      "120\n"
     ]
    }
   ],
   "source": [
    "\n",
    "list1 = [3,45,6,19,100]\n",
    "list2 = [12,4,120,5,11,15,42]\n",
    "largest = -1\n",
    "for i in list2:\n",
    "    if i > largest:\n",
    "        largest = i\n",
    "        i+=1\n",
    "print(largest)\n"
   ]
  },
  {
   "cell_type": "markdown",
   "metadata": {},
   "source": [
    "### Task 4\n",
    "\n",
    "Write a function that return the next day of a given date. "
   ]
  },
  {
   "cell_type": "code",
   "execution_count": 14,
   "metadata": {},
   "outputs": [
    {
     "name": "stdout",
     "output_type": "stream",
     "text": [
      "2/ 12/ 2024\n"
     ]
    }
   ],
   "source": [
    "#assuming all months have 30 days\n",
    "def next_day(day,month,year):\n",
    "    if day == 30 and month == 12 and year == year:\n",
    "        print(f\"1/1/{year+1}\")\n",
    "    elif day == 30 and month < 12 and year == year:\n",
    "        print(f\"1/ {month + 1}/{year}\")\n",
    "    elif day < 30 and month < 12 and year == year:\n",
    "        print(f\"{day + 1}/ {month}/ {year}\")\n",
    "    elif day < 30 and month == 12 and year == year:\n",
    "        print(f\"{day + 1}/ {month}/ {year}\")\n",
    "    else:\n",
    "        print(\"please insert a valid date\")\n",
    "\n",
    "next_day(1,12,2024)\n",
    "    "
   ]
  },
  {
   "cell_type": "markdown",
   "metadata": {},
   "source": [
    "## Section 2: .csv files\n",
    "\n",
    "<ins> Resources</ins>: \n",
    "\n",
    "Pandas: https://www.w3schools.com/python/pandas/pandas_getting_started.asp\n"
   ]
  },
  {
   "cell_type": "markdown",
   "metadata": {},
   "source": [
    "1. Choose a .cvs file to work with. There are two in the repo. The demo file from W3 schools contains data around exercise stats. There is also a file containing the collection of a US art gallery.\n",
    "\n",
    "2. See what data is in the file and think how you might want to view it\n",
    "\n",
    "3. Clean the data, info here: (https://www.w3schools.com/python/pandas/pandas_cleaning.asp), then save it to a different .csv file, info here: (https://www.programiz.com/python-programming/pandas/methods/to_csv)\n",
    "   \n",
    "4. Find interesting correlations in the data. Eg. pulse to calorie burn, year to dimensions. Info on this process here: (https://www.w3schools.com/python/pandas/pandas_correlations.asp)\n",
    "\n",
    "Optional : Once you’ve done this, find a new .cvs online and repeat the steps above. Museum exhibit list, sports stats (league tables ect… ) are fun. You can find a whole range to play with here: (https://www.kaggle.com/datasets?fileType=csv)"
   ]
  },
  {
   "cell_type": "code",
   "execution_count": 4,
   "metadata": {},
   "outputs": [
    {
     "ename": "ModuleNotFoundError",
     "evalue": "No module named 'bs4'",
     "output_type": "error",
     "traceback": [
      "\u001b[1;31m---------------------------------------------------------------------------\u001b[0m",
      "\u001b[1;31mModuleNotFoundError\u001b[0m                       Traceback (most recent call last)",
      "Cell \u001b[1;32mIn[4], line 1\u001b[0m\n\u001b[1;32m----> 1\u001b[0m \u001b[38;5;28;01mfrom\u001b[39;00m\u001b[38;5;250m \u001b[39m\u001b[38;5;21;01mbs4\u001b[39;00m\u001b[38;5;250m \u001b[39m\u001b[38;5;28;01mimport\u001b[39;00m BeautifulSoup\n\u001b[0;32m      2\u001b[0m \u001b[38;5;28;01mimport\u001b[39;00m\u001b[38;5;250m \u001b[39m\u001b[38;5;21;01mrequests\u001b[39;00m\n\u001b[0;32m      4\u001b[0m url \u001b[38;5;241m=\u001b[39m \u001b[38;5;124m'\u001b[39m\u001b[38;5;124mhttps://www.scrapethissite.com/pages/forms/\u001b[39m\u001b[38;5;124m'\u001b[39m\n",
      "\u001b[1;31mModuleNotFoundError\u001b[0m: No module named 'bs4'"
     ]
    }
   ],
   "source": [
    "from bs4 import BeautifulSoup\n",
    "import requests\n",
    "\n",
    "url = 'https://www.scrapethissite.com/pages/forms/'\n",
    "\n",
    "requests.get(url)"
   ]
  },
  {
   "cell_type": "markdown",
   "metadata": {},
   "source": [
    "## Section 3: Web scraping\n",
    "\n",
    "<ins>Resources: </ins>\n",
    "\n",
    "BeautifulSoup tutorial: https://www.tutorialspoint.com/beautiful_soup/index.htm \\\n",
    "BeautifulSoup documentation: https://www.crummy.com/software/BeautifulSoup/bs4/doc/#find\n",
    "\n"
   ]
  },
  {
   "cell_type": "markdown",
   "metadata": {},
   "source": [
    "### Task 1"
   ]
  },
  {
   "cell_type": "markdown",
   "metadata": {},
   "source": [
    "1. Go through the example notebook 1, reading and running each code block. Make sure that you understand what each part is doing.\n",
    "2. Choose a new wiki page and run the code to scrape data from the tables on that page\n",
    "3.  Save as a .csv\n",
    "4.  Use pandas to clean the data (if needed) and try find some interesting correlations"
   ]
  },
  {
   "cell_type": "code",
   "execution_count": null,
   "metadata": {},
   "outputs": [],
   "source": []
  },
  {
   "cell_type": "markdown",
   "metadata": {},
   "source": [
    "### Task 2"
   ]
  },
  {
   "cell_type": "markdown",
   "metadata": {},
   "source": [
    "1. Go through the example notebook 2 for image scraping, reading and running each code block. Make sure that you understand what each part is doing.\n",
    "2. Choose a different webpage and scrape the images (NOTE: make sure that you choose a website that allows scraping)"
   ]
  },
  {
   "cell_type": "code",
   "execution_count": null,
   "metadata": {},
   "outputs": [],
   "source": []
  }
 ],
 "metadata": {
  "kernelspec": {
   "display_name": "daz-venv",
   "language": "python",
   "name": "python3"
  },
  "language_info": {
   "codemirror_mode": {
    "name": "ipython",
    "version": 3
   },
   "file_extension": ".py",
   "mimetype": "text/x-python",
   "name": "python",
   "nbconvert_exporter": "python",
   "pygments_lexer": "ipython3",
   "version": "3.13.0"
  }
 },
 "nbformat": 4,
 "nbformat_minor": 2
}
